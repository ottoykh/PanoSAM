{
  "nbformat": 4,
  "nbformat_minor": 0,
  "metadata": {
    "colab": {
      "provenance": []
    },
    "kernelspec": {
      "name": "python3",
      "display_name": "Python 3"
    },
    "language_info": {
      "name": "python"
    }
  },
  "cells": [
    {
      "cell_type": "markdown",
      "source": [
        "Segment Anything segmented Pano-image to Point Cloud"
      ],
      "metadata": {
        "id": "-p7YE0ARU9U9"
      }
    },
    {
      "cell_type": "code",
      "source": [
        "!pip install laspy rasterio plyfile trimesh"
      ],
      "metadata": {
        "colab": {
          "base_uri": "https://localhost:8080/"
        },
        "id": "ENHqduXiwjHp",
        "outputId": "fe30ca48-943f-48b0-9c88-dcf30449281b"
      },
      "execution_count": 8,
      "outputs": [
        {
          "output_type": "stream",
          "name": "stdout",
          "text": [
            "Requirement already satisfied: laspy in /usr/local/lib/python3.11/dist-packages (2.5.4)\n",
            "Requirement already satisfied: rasterio in /usr/local/lib/python3.11/dist-packages (1.4.3)\n",
            "Requirement already satisfied: plyfile in /usr/local/lib/python3.11/dist-packages (1.1.2)\n",
            "Collecting trimesh\n",
            "  Downloading trimesh-4.6.12-py3-none-any.whl.metadata (18 kB)\n",
            "Requirement already satisfied: numpy in /usr/local/lib/python3.11/dist-packages (from laspy) (2.0.2)\n",
            "Requirement already satisfied: affine in /usr/local/lib/python3.11/dist-packages (from rasterio) (2.4.0)\n",
            "Requirement already satisfied: attrs in /usr/local/lib/python3.11/dist-packages (from rasterio) (25.3.0)\n",
            "Requirement already satisfied: certifi in /usr/local/lib/python3.11/dist-packages (from rasterio) (2025.4.26)\n",
            "Requirement already satisfied: click>=4.0 in /usr/local/lib/python3.11/dist-packages (from rasterio) (8.2.1)\n",
            "Requirement already satisfied: cligj>=0.5 in /usr/local/lib/python3.11/dist-packages (from rasterio) (0.7.2)\n",
            "Requirement already satisfied: click-plugins in /usr/local/lib/python3.11/dist-packages (from rasterio) (1.1.1)\n",
            "Requirement already satisfied: pyparsing in /usr/local/lib/python3.11/dist-packages (from rasterio) (3.2.3)\n",
            "Downloading trimesh-4.6.12-py3-none-any.whl (711 kB)\n",
            "\u001b[2K   \u001b[90m━━━━━━━━━━━━━━━━━━━━━━━━━━━━━━━━━━━━━━━━\u001b[0m \u001b[32m712.0/712.0 kB\u001b[0m \u001b[31m10.3 MB/s\u001b[0m eta \u001b[36m0:00:00\u001b[0m\n",
            "\u001b[?25hInstalling collected packages: trimesh\n",
            "Successfully installed trimesh-4.6.12\n"
          ]
        }
      ]
    },
    {
      "cell_type": "code",
      "source": [
        "import laspy\n",
        "import numpy as np\n",
        "import rasterio\n",
        "import cv2\n",
        "import trimesh\n",
        "\n",
        "# === Parameters ===\n",
        "INPUT_LAS = r\"2025_05_22_AF_RIEGL_01.las\"\n",
        "MASK_TIF = r\"/content/labeled_mask.tif\"\n",
        "OUTPUT_PLY = r\"output_with_mask.ply\"\n",
        "IMAGE_HEIGHT = 4096\n",
        "IMAGE_WIDTH = 8192\n",
        "PRECISION = 16\n",
        "FACTOR = 2 ** PRECISION\n",
        "\n",
        "# === Load mask ===\n",
        "print(\"[1] Loading mask...\")\n",
        "with rasterio.open(MASK_TIF) as src:\n",
        "    mask = src.read(1)\n",
        "\n",
        "if mask.shape != (IMAGE_HEIGHT, IMAGE_WIDTH):\n",
        "    print(\"[2] Resizing mask...\")\n",
        "    mask = cv2.resize(mask, (IMAGE_WIDTH, IMAGE_HEIGHT), interpolation=cv2.INTER_NEAREST)\n",
        "\n",
        "# === Load LAS ===\n",
        "print(\"[3] Reading LAS...\")\n",
        "las = laspy.read(INPUT_LAS)\n",
        "x, y, z = las.x, las.y, las.z\n",
        "r = np.sqrt(x * x + y * y + z * z)\n",
        "\n",
        "# === Spherical projection for mask sampling ===\n",
        "theta = ((IMAGE_WIDTH * FACTOR) - (((np.arctan2(y, x) + np.pi) / (2 * np.pi)) * IMAGE_WIDTH * FACTOR)).astype(np.uint64)\n",
        "phi = ((np.arccos(z / r) / np.pi) * IMAGE_HEIGHT * FACTOR).astype(np.uint64)\n",
        "theta_img = (theta >> PRECISION).clip(0, IMAGE_WIDTH - 1)\n",
        "phi_img = (phi >> PRECISION).clip(0, IMAGE_HEIGHT - 1)\n",
        "\n",
        "# === Sample mask ===\n",
        "print(\"[4] Sampling mask...\")\n",
        "mask_label = mask[phi_img, theta_img].astype(np.uint8)\n",
        "\n",
        "# === Extract fields and stack ===\n",
        "print(\"[5] Stacking data...\")\n",
        "red = las.red.astype(np.uint16)\n",
        "green = las.green.astype(np.uint16)\n",
        "blue = las.blue.astype(np.uint16)\n",
        "# Include mask_label as classification\n",
        "output_data = np.column_stack((x, y, z, red, green, blue, mask_label))\n",
        "\n",
        "# === Save to PLY ===\n",
        "print(\"[6] Writing to PLY...\")\n",
        "# Create a mesh using trimesh\n",
        "points = output_data[:, :3]  # x, y, z\n",
        "colors = output_data[:, 3:6]  # r, g, b\n",
        "classification = output_data[:, 6]  # mask label for classification\n",
        "\n",
        "# Create a PLY mesh with classification\n",
        "mesh = trimesh.Trimesh(vertices=points, vertex_colors=colors, process=False)\n",
        "\n",
        "# Add classification as a vertex property\n",
        "mesh.visual.vertex_colors = np.hstack((colors, classification[:, np.newaxis]))\n",
        "\n",
        "# Save the mesh to a PLY file\n",
        "mesh.export(OUTPUT_PLY)\n",
        "print(f\"[7] Done. Saved to {OUTPUT_PLY}\")"
      ],
      "metadata": {
        "colab": {
          "base_uri": "https://localhost:8080/"
        },
        "id": "J2hsU6OPvu_c",
        "outputId": "730441f0-43c4-48f8-9714-a0463aaea6d4"
      },
      "execution_count": 10,
      "outputs": [
        {
          "output_type": "stream",
          "name": "stdout",
          "text": [
            "[1] Loading mask...\n",
            "[2] Resizing mask...\n",
            "[3] Reading LAS...\n",
            "[4] Sampling mask...\n",
            "[5] Stacking data...\n",
            "[6] Writing to PLY...\n",
            "[7] Done. Saved to output_with_mask.ply\n"
          ]
        }
      ]
    }
  ]
}