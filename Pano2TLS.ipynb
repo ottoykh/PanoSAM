{
  "nbformat": 4,
  "nbformat_minor": 0,
  "metadata": {
    "colab": {
      "provenance": []
    },
    "kernelspec": {
      "name": "python3",
      "display_name": "Python 3"
    },
    "language_info": {
      "name": "python"
    }
  },
  "cells": [
    {
      "cell_type": "markdown",
      "source": [
        "Segment Anything segmented Pano-image to Point Cloud"
      ],
      "metadata": {
        "id": "-p7YE0ARU9U9"
      }
    },
    {
      "cell_type": "code",
      "source": [
        "!pip install laspy rasterio plyfile"
      ],
      "metadata": {
        "colab": {
          "base_uri": "https://localhost:8080/"
        },
        "id": "ENHqduXiwjHp",
        "outputId": "4292ac8d-a137-4cb9-ff79-e127c5e89fb4"
      },
      "execution_count": 1,
      "outputs": [
        {
          "output_type": "stream",
          "name": "stdout",
          "text": [
            "Requirement already satisfied: laspy in /usr/local/lib/python3.11/dist-packages (2.5.4)\n",
            "Collecting rasterio\n",
            "  Downloading rasterio-1.4.3-cp311-cp311-manylinux_2_17_x86_64.manylinux2014_x86_64.whl.metadata (9.1 kB)\n",
            "Collecting plyfile\n",
            "  Downloading plyfile-1.1.2-py3-none-any.whl.metadata (43 kB)\n",
            "\u001b[2K     \u001b[90m━━━━━━━━━━━━━━━━━━━━━━━━━━━━━━━━━━━━━━━━\u001b[0m \u001b[32m43.3/43.3 kB\u001b[0m \u001b[31m1.6 MB/s\u001b[0m eta \u001b[36m0:00:00\u001b[0m\n",
            "\u001b[?25hRequirement already satisfied: numpy in /usr/local/lib/python3.11/dist-packages (from laspy) (2.0.2)\n",
            "Collecting affine (from rasterio)\n",
            "  Downloading affine-2.4.0-py3-none-any.whl.metadata (4.0 kB)\n",
            "Requirement already satisfied: attrs in /usr/local/lib/python3.11/dist-packages (from rasterio) (25.3.0)\n",
            "Requirement already satisfied: certifi in /usr/local/lib/python3.11/dist-packages (from rasterio) (2025.4.26)\n",
            "Requirement already satisfied: click>=4.0 in /usr/local/lib/python3.11/dist-packages (from rasterio) (8.2.1)\n",
            "Collecting cligj>=0.5 (from rasterio)\n",
            "  Downloading cligj-0.7.2-py3-none-any.whl.metadata (5.0 kB)\n",
            "Collecting click-plugins (from rasterio)\n",
            "  Downloading click_plugins-1.1.1-py2.py3-none-any.whl.metadata (6.4 kB)\n",
            "Requirement already satisfied: pyparsing in /usr/local/lib/python3.11/dist-packages (from rasterio) (3.2.3)\n",
            "Downloading rasterio-1.4.3-cp311-cp311-manylinux_2_17_x86_64.manylinux2014_x86_64.whl (22.2 MB)\n",
            "\u001b[2K   \u001b[90m━━━━━━━━━━━━━━━━━━━━━━━━━━━━━━━━━━━━━━━━\u001b[0m \u001b[32m22.2/22.2 MB\u001b[0m \u001b[31m41.6 MB/s\u001b[0m eta \u001b[36m0:00:00\u001b[0m\n",
            "\u001b[?25hDownloading plyfile-1.1.2-py3-none-any.whl (36 kB)\n",
            "Downloading cligj-0.7.2-py3-none-any.whl (7.1 kB)\n",
            "Downloading affine-2.4.0-py3-none-any.whl (15 kB)\n",
            "Downloading click_plugins-1.1.1-py2.py3-none-any.whl (7.5 kB)\n",
            "Installing collected packages: plyfile, cligj, click-plugins, affine, rasterio\n",
            "Successfully installed affine-2.4.0 click-plugins-1.1.1 cligj-0.7.2 plyfile-1.1.2 rasterio-1.4.3\n"
          ]
        }
      ]
    },
    {
      "cell_type": "code",
      "source": [
        "import laspy\n",
        "import numpy as np\n",
        "from math import pi\n",
        "import rasterio\n",
        "from rasterio.enums import Resampling\n",
        "from plyfile import PlyData, PlyElement\n",
        "\n",
        "# === File paths ===\n",
        "INPUT_LAS = r\"/content/2025_05_22_AF_RIEGL_01.las\"\n",
        "OUTPUT_PLY = r\"classified_result.ply\"\n",
        "PANO_MASK_PATH = r\"labeled_mask.tif\"\n",
        "\n",
        "# === Panorama dimensions ===\n",
        "MASK_WIDTH, MASK_HEIGHT = 2048, 1024\n",
        "TARGET_WIDTH, TARGET_HEIGHT = 8192, 4096\n",
        "\n",
        "def load_and_resize_mask(mask_path, target_width, target_height):\n",
        "    print(\"📥 Loading and resizing mask...\")\n",
        "    try:\n",
        "        with rasterio.open(mask_path) as src:\n",
        "            mask = src.read(\n",
        "                out_shape=(1, target_height, target_width),\n",
        "                resampling=Resampling.nearest\n",
        "            )[0]\n",
        "        print(f\"Mask shape: {mask.shape}\")  # Expect (4096, 8192)\n",
        "        return mask\n",
        "    except Exception as e:\n",
        "        print(f\"❌ Error loading mask: {e}\")\n",
        "        exit(1)\n",
        "\n",
        "def read_las_point_cloud(las_path):\n",
        "    print(\"📥 Reading LAS file...\")\n",
        "    try:\n",
        "        las = laspy.read(las_path)\n",
        "        x = las.x.scaled_array()\n",
        "        y = las.y.scaled_array()\n",
        "        z = las.z.scaled_array()\n",
        "        return las, x, y, z\n",
        "    except Exception as e:\n",
        "        print(f\"❌ Error reading LAS file: {e}\")\n",
        "        exit(1)\n",
        "\n",
        "def project_points_to_panorama(x, y, z, target_width, target_height):\n",
        "    print(\"📏 Projecting points to panorama coordinates...\")\n",
        "    r = np.sqrt(x**2 + y**2 + z**2)\n",
        "    r[r == 0] = 1e-6  # Avoid division by zero\n",
        "\n",
        "    if np.any(np.isnan(r)) or np.any(np.isinf(r)):\n",
        "        print(\"❌ Warning: NaN or inf values detected in radial distances.\")\n",
        "        exit(1)\n",
        "\n",
        "    theta = np.arctan2(y, x)  # azimuth [-π, π]\n",
        "    theta = (theta + 2 * pi) % (2 * pi)  # normalize [0, 2π]\n",
        "\n",
        "    phi = np.arccos(z / r)  # zenith [0, π]\n",
        "\n",
        "    if np.any(np.isnan(phi)) or np.any(np.isinf(phi)):\n",
        "        print(\"❌ Warning: NaN or inf values detected in zenith angles.\")\n",
        "        exit(1)\n",
        "\n",
        "    u = (theta / (2 * pi) * target_width).astype(np.int32)\n",
        "    v = (phi / pi * target_height).astype(np.int32)\n",
        "\n",
        "    print(f\"u range before clip: [{u.min()}, {u.max()}]\")\n",
        "    print(f\"v range before clip: [{v.min()}, {v.max()}]\")\n",
        "\n",
        "    u = np.clip(u, 0, target_width - 1)\n",
        "    v = np.clip(v, 0, target_height - 1)\n",
        "\n",
        "    print(f\"u range after clip: [{u.min()}, {u.max()}]\")\n",
        "    print(f\"v range after clip: [{v.min()}, {v.max()}]\")\n",
        "\n",
        "    return u, v\n",
        "\n",
        "def sample_mask_classes(mask, u, v):\n",
        "    print(\"🎯 Sampling mask labels for each point...\")\n",
        "    try:\n",
        "        classes = mask[v, u]\n",
        "        classes = np.clip(classes, 0, 255).astype(np.uint8)\n",
        "        return classes\n",
        "    except Exception as e:\n",
        "        print(f\"❌ Error sampling mask: {e}\")\n",
        "        exit(1)\n",
        "\n",
        "def save_ply_with_class(las, x, y, z, sampled_class, output_path):\n",
        "    print(\"💾 Saving classified PLY file...\")\n",
        "    try:\n",
        "        # Gather LAS dimension info\n",
        "        las_dims = [(dim.name, dim.dtype) for dim in las.point_format.dimensions]\n",
        "        print(f\"LAS dimensions: {las_dims}\")\n",
        "\n",
        "        ply_dtype_map = {\n",
        "            'int8': 'i1', 'uint8': 'u1',\n",
        "            'int16': 'i2', 'uint16': 'u2',\n",
        "            'int32': 'i4', 'uint32': 'u4',\n",
        "            'float32': 'f4', 'float64': 'f8'\n",
        "        }\n",
        "\n",
        "        # Start dtype with x,y,z as float32\n",
        "        ply_dtype = [('x', 'f4'), ('y', 'f4'), ('z', 'f4')]\n",
        "\n",
        "        # Add other fields from LAS (excluding raw X,Y,Z)\n",
        "        for dim_name, dim_dtype in las_dims:\n",
        "            if dim_name not in ['X', 'Y', 'Z']:\n",
        "                ply_dim_name = dim_name.lower()\n",
        "                ply_dim_dtype = ply_dtype_map.get(str(dim_dtype), 'f4')\n",
        "                ply_dtype.append((ply_dim_name, ply_dim_dtype))\n",
        "\n",
        "        # Add class field as uint8\n",
        "        ply_dtype.append(('class', 'u1'))\n",
        "\n",
        "        # Prepare structured array\n",
        "        vertex = np.zeros(x.shape[0], dtype=ply_dtype)\n",
        "        vertex['x'] = x.astype(np.float32)\n",
        "        vertex['y'] = y.astype(np.float32)\n",
        "        vertex['z'] = z.astype(np.float32)\n",
        "\n",
        "        for dim_name, _ in las_dims:\n",
        "            if dim_name not in ['X', 'Y', 'Z']:\n",
        "                try:\n",
        "                    vertex[dim_name.lower()] = las[dim_name]\n",
        "                except ValueError as e:\n",
        "                    print(f\"⚠️ Warning: Could not copy field '{dim_name}': {e}\")\n",
        "\n",
        "        vertex['class'] = sampled_class\n",
        "\n",
        "        ply_element = PlyElement.describe(vertex, 'vertex')\n",
        "        PlyData([ply_element], text=False).write(output_path)\n",
        "        print(f\"✅ Done. Output saved to: {output_path}\")\n",
        "\n",
        "    except Exception as e:\n",
        "        print(f\"❌ Error saving PLY file: {e}\")\n",
        "        exit(1)\n",
        "\n",
        "def main():\n",
        "    mask = load_and_resize_mask(PANO_MASK_PATH, TARGET_WIDTH, TARGET_HEIGHT)\n",
        "    las, x, y, z = read_las_point_cloud(INPUT_LAS)\n",
        "    u, v = project_points_to_panorama(x, y, z, TARGET_WIDTH, TARGET_HEIGHT)\n",
        "    sampled_class = sample_mask_classes(mask, u, v)\n",
        "    save_ply_with_class(las, x, y, z, sampled_class, OUTPUT_PLY)\n",
        "\n",
        "if __name__ == \"__main__\":\n",
        "    main()\n"
      ],
      "metadata": {
        "colab": {
          "base_uri": "https://localhost:8080/"
        },
        "id": "J2hsU6OPvu_c",
        "outputId": "034d66a9-6388-427a-bb7b-4aa3b0971940"
      },
      "execution_count": 2,
      "outputs": [
        {
          "output_type": "stream",
          "name": "stdout",
          "text": [
            "📥 Loading and resizing mask...\n"
          ]
        },
        {
          "output_type": "stream",
          "name": "stderr",
          "text": [
            "/usr/local/lib/python3.11/dist-packages/rasterio/__init__.py:356: NotGeoreferencedWarning: Dataset has no geotransform, gcps, or rpcs. The identity matrix will be returned.\n",
            "  dataset = DatasetReader(path, driver=driver, sharing=sharing, **kwargs)\n"
          ]
        },
        {
          "output_type": "stream",
          "name": "stdout",
          "text": [
            "Mask shape: (4096, 8192)\n",
            "📥 Reading LAS file...\n",
            "📏 Projecting points to panorama coordinates...\n",
            "u range before clip: [0, 8191]\n",
            "v range before clip: [557, 3035]\n",
            "u range after clip: [0, 8191]\n",
            "v range after clip: [557, 3035]\n",
            "🎯 Sampling mask labels for each point...\n",
            "💾 Saving classified PLY file...\n",
            "LAS dimensions: [('X', dtype('int32')), ('Y', dtype('int32')), ('Z', dtype('int32')), ('intensity', dtype('uint16')), ('return_number', None), ('number_of_returns', None), ('scan_direction_flag', None), ('edge_of_flight_line', None), ('classification', None), ('synthetic', None), ('key_point', None), ('withheld', None), ('scan_angle_rank', dtype('int8')), ('user_data', dtype('uint8')), ('point_source_id', dtype('uint16')), ('gps_time', dtype('float64')), ('red', dtype('uint16')), ('green', dtype('uint16')), ('blue', dtype('uint16')), ('Amplitude', dtype('int16')), ('Reflectance', dtype('int16')), ('Deviation', dtype('int16'))]\n",
            "✅ Done. Output saved to: classified_result.ply\n"
          ]
        }
      ]
    }
  ]
}